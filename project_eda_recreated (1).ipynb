{
 "cells": [
  {
   "cell_type": "markdown",
   "id": "f70701d9-9811-4838-a9c5-d5fbbb2a16c3",
   "metadata": {},
   "source": [
    "\n",
    "\n",
    "# Phase 1 – Data Exploration & Initial Assessment\n"
   ]
  },
  {
   "cell_type": "code",
   "execution_count": 60,
   "id": "f0d5ddfa",
   "metadata": {},
   "outputs": [],
   "source": [
    "\n",
    "\n",
    "## 1. Import Libraries \n",
    "import pandas as pd\n",
    "import numpy as np\n",
    "import matplotlib.pyplot as plt\n",
    "import seaborn as sns\n",
    "from scipy.stats import linregress\n",
    "import warnings \n",
    "warnings.filterwarnings('ignore')"
   ]
  },
  {
   "cell_type": "markdown",
   "id": "d8a15b6f-f19d-44dd-b31d-5e8c6a4d81dd",
   "metadata": {},
   "source": [
    "\n",
    "# 1. Load Dataset"
   ]
  },
  {
   "cell_type": "code",
   "execution_count": 61,
   "id": "874b3312",
   "metadata": {},
   "outputs": [
    {
     "data": {
      "text/html": [
       "<div>\n",
       "<style scoped>\n",
       "    .dataframe tbody tr th:only-of-type {\n",
       "        vertical-align: middle;\n",
       "    }\n",
       "\n",
       "    .dataframe tbody tr th {\n",
       "        vertical-align: top;\n",
       "    }\n",
       "\n",
       "    .dataframe thead th {\n",
       "        text-align: right;\n",
       "    }\n",
       "</style>\n",
       "<table border=\"1\" class=\"dataframe\">\n",
       "  <thead>\n",
       "    <tr style=\"text-align: right;\">\n",
       "      <th></th>\n",
       "      <th>Order ID</th>\n",
       "      <th>Customer ID</th>\n",
       "      <th>Platform</th>\n",
       "      <th>Order Date &amp; Time</th>\n",
       "      <th>Delivery Time (Minutes)</th>\n",
       "      <th>Product Category</th>\n",
       "      <th>Order Value (INR)</th>\n",
       "      <th>Customer Feedback</th>\n",
       "      <th>Service Rating</th>\n",
       "      <th>Delivery Delay</th>\n",
       "      <th>Refund Requested</th>\n",
       "    </tr>\n",
       "  </thead>\n",
       "  <tbody>\n",
       "    <tr>\n",
       "      <th>0</th>\n",
       "      <td>ORD090001</td>\n",
       "      <td>CUST9695</td>\n",
       "      <td>Blinkit</td>\n",
       "      <td>15:29.5</td>\n",
       "      <td>25</td>\n",
       "      <td>Beverages</td>\n",
       "      <td>465.0</td>\n",
       "      <td>Fast delivery, great service!</td>\n",
       "      <td>5</td>\n",
       "      <td>No</td>\n",
       "      <td>No</td>\n",
       "    </tr>\n",
       "    <tr>\n",
       "      <th>1</th>\n",
       "      <td>ORD090002</td>\n",
       "      <td>CUST1912</td>\n",
       "      <td>Blinkit</td>\n",
       "      <td>30:29.5</td>\n",
       "      <td>55</td>\n",
       "      <td>Grocery</td>\n",
       "      <td>1265.0</td>\n",
       "      <td>Horrible experience, never ordering again.</td>\n",
       "      <td>1</td>\n",
       "      <td>Yes</td>\n",
       "      <td>Yes</td>\n",
       "    </tr>\n",
       "    <tr>\n",
       "      <th>2</th>\n",
       "      <td>ORD090003</td>\n",
       "      <td>CUST4785</td>\n",
       "      <td>Blinkit</td>\n",
       "      <td>26:29.5</td>\n",
       "      <td>11</td>\n",
       "      <td>Personal Care</td>\n",
       "      <td>1735.0</td>\n",
       "      <td>Not fresh, disappointed.</td>\n",
       "      <td>2</td>\n",
       "      <td>No</td>\n",
       "      <td>Yes</td>\n",
       "    </tr>\n",
       "    <tr>\n",
       "      <th>3</th>\n",
       "      <td>ORD090004</td>\n",
       "      <td>CUST7815</td>\n",
       "      <td>Blinkit</td>\n",
       "      <td>49:29.5</td>\n",
       "      <td>31</td>\n",
       "      <td>Grocery</td>\n",
       "      <td>1255.0</td>\n",
       "      <td>Quick and reliable!</td>\n",
       "      <td>5</td>\n",
       "      <td>No</td>\n",
       "      <td>No</td>\n",
       "    </tr>\n",
       "    <tr>\n",
       "      <th>4</th>\n",
       "      <td>ORD090005</td>\n",
       "      <td>CUST4418</td>\n",
       "      <td>Blinkit</td>\n",
       "      <td>26:29.5</td>\n",
       "      <td>27</td>\n",
       "      <td>Fruits &amp; Vegetables</td>\n",
       "      <td>301.0</td>\n",
       "      <td>Items missing from order.</td>\n",
       "      <td>2</td>\n",
       "      <td>No</td>\n",
       "      <td>Yes</td>\n",
       "    </tr>\n",
       "    <tr>\n",
       "      <th>...</th>\n",
       "      <td>...</td>\n",
       "      <td>...</td>\n",
       "      <td>...</td>\n",
       "      <td>...</td>\n",
       "      <td>...</td>\n",
       "      <td>...</td>\n",
       "      <td>...</td>\n",
       "      <td>...</td>\n",
       "      <td>...</td>\n",
       "      <td>...</td>\n",
       "      <td>...</td>\n",
       "    </tr>\n",
       "    <tr>\n",
       "      <th>10083</th>\n",
       "      <td>ORD093858</td>\n",
       "      <td>CUST8650</td>\n",
       "      <td>Blinkit</td>\n",
       "      <td>24:29.5</td>\n",
       "      <td>31</td>\n",
       "      <td>Beverages</td>\n",
       "      <td>493.0</td>\n",
       "      <td>Packaging could be better.</td>\n",
       "      <td>3</td>\n",
       "      <td>No</td>\n",
       "      <td>No</td>\n",
       "    </tr>\n",
       "    <tr>\n",
       "      <th>10084</th>\n",
       "      <td>ORD095862</td>\n",
       "      <td>CUST8251</td>\n",
       "      <td>Swiggy Instamart</td>\n",
       "      <td>35:29.5</td>\n",
       "      <td>37</td>\n",
       "      <td>Snacks</td>\n",
       "      <td>128.0</td>\n",
       "      <td>Good quality products.</td>\n",
       "      <td>4</td>\n",
       "      <td>No</td>\n",
       "      <td>No</td>\n",
       "    </tr>\n",
       "    <tr>\n",
       "      <th>10085</th>\n",
       "      <td>ORD093146</td>\n",
       "      <td>CUST9950</td>\n",
       "      <td>JioMart</td>\n",
       "      <td>37:29.5</td>\n",
       "      <td>12</td>\n",
       "      <td>Beverages</td>\n",
       "      <td>211.0</td>\n",
       "      <td>Delivery person was rude.</td>\n",
       "      <td>2</td>\n",
       "      <td>No</td>\n",
       "      <td>Yes</td>\n",
       "    </tr>\n",
       "    <tr>\n",
       "      <th>10086</th>\n",
       "      <td>ORD093306</td>\n",
       "      <td>CUST3598</td>\n",
       "      <td>JioMart</td>\n",
       "      <td>55:29.5</td>\n",
       "      <td>39</td>\n",
       "      <td>Personal Care</td>\n",
       "      <td>401.0</td>\n",
       "      <td>Horrible experience, never ordering again.</td>\n",
       "      <td>1</td>\n",
       "      <td>No</td>\n",
       "      <td>Yes</td>\n",
       "    </tr>\n",
       "    <tr>\n",
       "      <th>10087</th>\n",
       "      <td>ORD093007</td>\n",
       "      <td>CUST2018</td>\n",
       "      <td>Blinkit</td>\n",
       "      <td>49:29.5</td>\n",
       "      <td>31</td>\n",
       "      <td>Dairy</td>\n",
       "      <td>656.0</td>\n",
       "      <td>Very late delivery, not happy.</td>\n",
       "      <td>2</td>\n",
       "      <td>No</td>\n",
       "      <td>Yes</td>\n",
       "    </tr>\n",
       "  </tbody>\n",
       "</table>\n",
       "<p>10088 rows × 11 columns</p>\n",
       "</div>"
      ],
      "text/plain": [
       "        Order ID Customer ID          Platform Order Date & Time  \\\n",
       "0      ORD090001    CUST9695           Blinkit           15:29.5   \n",
       "1      ORD090002    CUST1912           Blinkit           30:29.5   \n",
       "2      ORD090003    CUST4785           Blinkit           26:29.5   \n",
       "3      ORD090004    CUST7815           Blinkit           49:29.5   \n",
       "4      ORD090005    CUST4418           Blinkit           26:29.5   \n",
       "...          ...         ...               ...               ...   \n",
       "10083  ORD093858    CUST8650           Blinkit           24:29.5   \n",
       "10084  ORD095862    CUST8251  Swiggy Instamart           35:29.5   \n",
       "10085  ORD093146    CUST9950           JioMart           37:29.5   \n",
       "10086  ORD093306    CUST3598           JioMart           55:29.5   \n",
       "10087  ORD093007    CUST2018           Blinkit           49:29.5   \n",
       "\n",
       "       Delivery Time (Minutes)     Product Category  Order Value (INR)  \\\n",
       "0                           25            Beverages              465.0   \n",
       "1                           55              Grocery             1265.0   \n",
       "2                           11        Personal Care             1735.0   \n",
       "3                           31              Grocery             1255.0   \n",
       "4                           27  Fruits & Vegetables              301.0   \n",
       "...                        ...                  ...                ...   \n",
       "10083                       31            Beverages              493.0   \n",
       "10084                       37               Snacks              128.0   \n",
       "10085                       12            Beverages              211.0   \n",
       "10086                       39        Personal Care              401.0   \n",
       "10087                       31                Dairy              656.0   \n",
       "\n",
       "                                Customer Feedback  Service Rating  \\\n",
       "0                   Fast delivery, great service!               5   \n",
       "1      Horrible experience, never ordering again.               1   \n",
       "2                        Not fresh, disappointed.               2   \n",
       "3                             Quick and reliable!               5   \n",
       "4                       Items missing from order.               2   \n",
       "...                                           ...             ...   \n",
       "10083                  Packaging could be better.               3   \n",
       "10084                      Good quality products.               4   \n",
       "10085                   Delivery person was rude.               2   \n",
       "10086  Horrible experience, never ordering again.               1   \n",
       "10087              Very late delivery, not happy.               2   \n",
       "\n",
       "      Delivery Delay Refund Requested  \n",
       "0                 No               No  \n",
       "1                Yes              Yes  \n",
       "2                 No              Yes  \n",
       "3                 No               No  \n",
       "4                 No              Yes  \n",
       "...              ...              ...  \n",
       "10083             No               No  \n",
       "10084             No               No  \n",
       "10085             No              Yes  \n",
       "10086             No              Yes  \n",
       "10087             No              Yes  \n",
       "\n",
       "[10088 rows x 11 columns]"
      ]
     },
     "execution_count": 61,
     "metadata": {},
     "output_type": "execute_result"
    }
   ],
   "source": [
    "\n",
    "\n",
    "df = pd.read_csv(\"Ecommerce_Delivery_Analytics_Modified.csv\")\n",
    "df\n"
   ]
  },
  {
   "cell_type": "markdown",
   "id": "82d2e42b-124c-4c68-b5a1-ebd19fa862ef",
   "metadata": {},
   "source": [
    "#  Observation:\n",
    "#  - Dataset has been loaded successfully using pd.read_csv()"
   ]
  },
  {
   "cell_type": "markdown",
   "id": "375a149b-bd4a-4475-aedf-2d41247572a0",
   "metadata": {},
   "source": [
    "#  2.View sample data"
   ]
  },
  {
   "cell_type": "code",
   "execution_count": 62,
   "id": "7b808686",
   "metadata": {},
   "outputs": [
    {
     "data": {
      "text/html": [
       "<div>\n",
       "<style scoped>\n",
       "    .dataframe tbody tr th:only-of-type {\n",
       "        vertical-align: middle;\n",
       "    }\n",
       "\n",
       "    .dataframe tbody tr th {\n",
       "        vertical-align: top;\n",
       "    }\n",
       "\n",
       "    .dataframe thead th {\n",
       "        text-align: right;\n",
       "    }\n",
       "</style>\n",
       "<table border=\"1\" class=\"dataframe\">\n",
       "  <thead>\n",
       "    <tr style=\"text-align: right;\">\n",
       "      <th></th>\n",
       "      <th>Order ID</th>\n",
       "      <th>Customer ID</th>\n",
       "      <th>Platform</th>\n",
       "      <th>Order Date &amp; Time</th>\n",
       "      <th>Delivery Time (Minutes)</th>\n",
       "      <th>Product Category</th>\n",
       "      <th>Order Value (INR)</th>\n",
       "      <th>Customer Feedback</th>\n",
       "      <th>Service Rating</th>\n",
       "      <th>Delivery Delay</th>\n",
       "      <th>Refund Requested</th>\n",
       "    </tr>\n",
       "  </thead>\n",
       "  <tbody>\n",
       "    <tr>\n",
       "      <th>0</th>\n",
       "      <td>ORD090001</td>\n",
       "      <td>CUST9695</td>\n",
       "      <td>Blinkit</td>\n",
       "      <td>15:29.5</td>\n",
       "      <td>25</td>\n",
       "      <td>Beverages</td>\n",
       "      <td>465.0</td>\n",
       "      <td>Fast delivery, great service!</td>\n",
       "      <td>5</td>\n",
       "      <td>No</td>\n",
       "      <td>No</td>\n",
       "    </tr>\n",
       "    <tr>\n",
       "      <th>1</th>\n",
       "      <td>ORD090002</td>\n",
       "      <td>CUST1912</td>\n",
       "      <td>Blinkit</td>\n",
       "      <td>30:29.5</td>\n",
       "      <td>55</td>\n",
       "      <td>Grocery</td>\n",
       "      <td>1265.0</td>\n",
       "      <td>Horrible experience, never ordering again.</td>\n",
       "      <td>1</td>\n",
       "      <td>Yes</td>\n",
       "      <td>Yes</td>\n",
       "    </tr>\n",
       "    <tr>\n",
       "      <th>2</th>\n",
       "      <td>ORD090003</td>\n",
       "      <td>CUST4785</td>\n",
       "      <td>Blinkit</td>\n",
       "      <td>26:29.5</td>\n",
       "      <td>11</td>\n",
       "      <td>Personal Care</td>\n",
       "      <td>1735.0</td>\n",
       "      <td>Not fresh, disappointed.</td>\n",
       "      <td>2</td>\n",
       "      <td>No</td>\n",
       "      <td>Yes</td>\n",
       "    </tr>\n",
       "    <tr>\n",
       "      <th>3</th>\n",
       "      <td>ORD090004</td>\n",
       "      <td>CUST7815</td>\n",
       "      <td>Blinkit</td>\n",
       "      <td>49:29.5</td>\n",
       "      <td>31</td>\n",
       "      <td>Grocery</td>\n",
       "      <td>1255.0</td>\n",
       "      <td>Quick and reliable!</td>\n",
       "      <td>5</td>\n",
       "      <td>No</td>\n",
       "      <td>No</td>\n",
       "    </tr>\n",
       "    <tr>\n",
       "      <th>4</th>\n",
       "      <td>ORD090005</td>\n",
       "      <td>CUST4418</td>\n",
       "      <td>Blinkit</td>\n",
       "      <td>26:29.5</td>\n",
       "      <td>27</td>\n",
       "      <td>Fruits &amp; Vegetables</td>\n",
       "      <td>301.0</td>\n",
       "      <td>Items missing from order.</td>\n",
       "      <td>2</td>\n",
       "      <td>No</td>\n",
       "      <td>Yes</td>\n",
       "    </tr>\n",
       "  </tbody>\n",
       "</table>\n",
       "</div>"
      ],
      "text/plain": [
       "    Order ID Customer ID Platform Order Date & Time  Delivery Time (Minutes)  \\\n",
       "0  ORD090001    CUST9695  Blinkit           15:29.5                       25   \n",
       "1  ORD090002    CUST1912  Blinkit           30:29.5                       55   \n",
       "2  ORD090003    CUST4785  Blinkit           26:29.5                       11   \n",
       "3  ORD090004    CUST7815  Blinkit           49:29.5                       31   \n",
       "4  ORD090005    CUST4418  Blinkit           26:29.5                       27   \n",
       "\n",
       "      Product Category  Order Value (INR)  \\\n",
       "0            Beverages              465.0   \n",
       "1              Grocery             1265.0   \n",
       "2        Personal Care             1735.0   \n",
       "3              Grocery             1255.0   \n",
       "4  Fruits & Vegetables              301.0   \n",
       "\n",
       "                            Customer Feedback  Service Rating Delivery Delay  \\\n",
       "0               Fast delivery, great service!               5             No   \n",
       "1  Horrible experience, never ordering again.               1            Yes   \n",
       "2                    Not fresh, disappointed.               2             No   \n",
       "3                         Quick and reliable!               5             No   \n",
       "4                   Items missing from order.               2             No   \n",
       "\n",
       "  Refund Requested  \n",
       "0               No  \n",
       "1              Yes  \n",
       "2              Yes  \n",
       "3               No  \n",
       "4              Yes  "
      ]
     },
     "execution_count": 62,
     "metadata": {},
     "output_type": "execute_result"
    }
   ],
   "source": [
    "\n",
    "\n",
    "df.head()\n",
    " \n"
   ]
  },
  {
   "cell_type": "markdown",
   "id": "8d7f0916-e4e9-48e5-b10f-d210d8d6b23f",
   "metadata": {},
   "source": [
    "\n",
    "#  Observation:\n",
    "- The preview shows the first few rows of the data and helps us check if the file loaded correctly.\n",
    "\n"
   ]
  },
  {
   "cell_type": "markdown",
   "id": "540ac226-b622-422b-bf72-9ca62137a8c8",
   "metadata": {},
   "source": [
    "#  3.Check structure — data types & missing overview"
   ]
  },
  {
   "cell_type": "code",
   "execution_count": 63,
   "id": "c2bb4ed2",
   "metadata": {},
   "outputs": [
    {
     "name": "stdout",
     "output_type": "stream",
     "text": [
      "<class 'pandas.core.frame.DataFrame'>\n",
      "RangeIndex: 10088 entries, 0 to 10087\n",
      "Data columns (total 11 columns):\n",
      " #   Column                   Non-Null Count  Dtype  \n",
      "---  ------                   --------------  -----  \n",
      " 0   Order ID                 10088 non-null  object \n",
      " 1   Customer ID              10088 non-null  object \n",
      " 2   Platform                 10008 non-null  object \n",
      " 3   Order Date & Time        10088 non-null  object \n",
      " 4   Delivery Time (Minutes)  10088 non-null  int64  \n",
      " 5   Product Category         10058 non-null  object \n",
      " 6   Order Value (INR)        10018 non-null  float64\n",
      " 7   Customer Feedback        10088 non-null  object \n",
      " 8   Service Rating           10088 non-null  int64  \n",
      " 9   Delivery Delay           10088 non-null  object \n",
      " 10  Refund Requested         10088 non-null  object \n",
      "dtypes: float64(1), int64(2), object(8)\n",
      "memory usage: 867.1+ KB\n"
     ]
    }
   ],
   "source": [
    "\n",
    "df.info()"
   ]
  },
  {
   "cell_type": "code",
   "execution_count": 64,
   "id": "efb46ca8",
   "metadata": {},
   "outputs": [
    {
     "data": {
      "text/html": [
       "<div>\n",
       "<style scoped>\n",
       "    .dataframe tbody tr th:only-of-type {\n",
       "        vertical-align: middle;\n",
       "    }\n",
       "\n",
       "    .dataframe tbody tr th {\n",
       "        vertical-align: top;\n",
       "    }\n",
       "\n",
       "    .dataframe thead th {\n",
       "        text-align: right;\n",
       "    }\n",
       "</style>\n",
       "<table border=\"1\" class=\"dataframe\">\n",
       "  <thead>\n",
       "    <tr style=\"text-align: right;\">\n",
       "      <th></th>\n",
       "      <th>Delivery Time (Minutes)</th>\n",
       "      <th>Order Value (INR)</th>\n",
       "      <th>Service Rating</th>\n",
       "    </tr>\n",
       "  </thead>\n",
       "  <tbody>\n",
       "    <tr>\n",
       "      <th>count</th>\n",
       "      <td>10088.000000</td>\n",
       "      <td>10018.000000</td>\n",
       "      <td>10088.000000</td>\n",
       "    </tr>\n",
       "    <tr>\n",
       "      <th>mean</th>\n",
       "      <td>29.613402</td>\n",
       "      <td>590.087043</td>\n",
       "      <td>3.226507</td>\n",
       "    </tr>\n",
       "    <tr>\n",
       "      <th>std</th>\n",
       "      <td>9.860493</td>\n",
       "      <td>416.305651</td>\n",
       "      <td>1.565510</td>\n",
       "    </tr>\n",
       "    <tr>\n",
       "      <th>min</th>\n",
       "      <td>5.000000</td>\n",
       "      <td>50.000000</td>\n",
       "      <td>1.000000</td>\n",
       "    </tr>\n",
       "    <tr>\n",
       "      <th>25%</th>\n",
       "      <td>23.000000</td>\n",
       "      <td>284.000000</td>\n",
       "      <td>2.000000</td>\n",
       "    </tr>\n",
       "    <tr>\n",
       "      <th>50%</th>\n",
       "      <td>30.000000</td>\n",
       "      <td>480.000000</td>\n",
       "      <td>3.000000</td>\n",
       "    </tr>\n",
       "    <tr>\n",
       "      <th>75%</th>\n",
       "      <td>36.000000</td>\n",
       "      <td>765.750000</td>\n",
       "      <td>5.000000</td>\n",
       "    </tr>\n",
       "    <tr>\n",
       "      <th>max</th>\n",
       "      <td>72.000000</td>\n",
       "      <td>2000.000000</td>\n",
       "      <td>5.000000</td>\n",
       "    </tr>\n",
       "  </tbody>\n",
       "</table>\n",
       "</div>"
      ],
      "text/plain": [
       "       Delivery Time (Minutes)  Order Value (INR)  Service Rating\n",
       "count             10088.000000       10018.000000    10088.000000\n",
       "mean                 29.613402         590.087043        3.226507\n",
       "std                   9.860493         416.305651        1.565510\n",
       "min                   5.000000          50.000000        1.000000\n",
       "25%                  23.000000         284.000000        2.000000\n",
       "50%                  30.000000         480.000000        3.000000\n",
       "75%                  36.000000         765.750000        5.000000\n",
       "max                  72.000000        2000.000000        5.000000"
      ]
     },
     "execution_count": 64,
     "metadata": {},
     "output_type": "execute_result"
    }
   ],
   "source": [
    "\n",
    "\n",
    "df.describe()\n",
    "\n",
    "\n"
   ]
  },
  {
   "cell_type": "code",
   "execution_count": 65,
   "id": "42a66265",
   "metadata": {},
   "outputs": [
    {
     "data": {
      "text/plain": [
       "Order ID                    0\n",
       "Customer ID                 0\n",
       "Platform                   80\n",
       "Order Date & Time           0\n",
       "Delivery Time (Minutes)     0\n",
       "Product Category           30\n",
       "Order Value (INR)          70\n",
       "Customer Feedback           0\n",
       "Service Rating              0\n",
       "Delivery Delay              0\n",
       "Refund Requested            0\n",
       "dtype: int64"
      ]
     },
     "execution_count": 65,
     "metadata": {},
     "output_type": "execute_result"
    }
   ],
   "source": [
    "\n",
    "\n",
    "df.isnull().sum()\n",
    "\n",
    "\n"
   ]
  },
  {
   "cell_type": "code",
   "execution_count": null,
   "id": "19e7bd1c",
   "metadata": {},
   "outputs": [],
   "source": [
    "\n",
    "\n",
    "\n",
    "\n"
   ]
  },
  {
   "cell_type": "code",
   "execution_count": 66,
   "id": "2182af0a",
   "metadata": {},
   "outputs": [
    {
     "data": {
      "text/plain": [
       "Order ID                    0\n",
       "Customer ID                 0\n",
       "Platform                   80\n",
       "Order Date & Time           0\n",
       "Delivery Time (Minutes)     0\n",
       "Product Category           30\n",
       "Order Value (INR)          70\n",
       "Customer Feedback           0\n",
       "Service Rating              0\n",
       "Delivery Delay              0\n",
       "Refund Requested            0\n",
       "dtype: int64"
      ]
     },
     "execution_count": 66,
     "metadata": {},
     "output_type": "execute_result"
    }
   ],
   "source": [
    "\n",
    "\n",
    "df.isna().sum()\n"
   ]
  },
  {
   "cell_type": "code",
   "execution_count": 67,
   "id": "baf9e8d2",
   "metadata": {},
   "outputs": [
    {
     "data": {
      "text/plain": [
       "Platform\n",
       "Swiggy Instamart    3371\n",
       "Blinkit             3366\n",
       "JioMart             3271\n",
       "Name: count, dtype: int64"
      ]
     },
     "execution_count": 67,
     "metadata": {},
     "output_type": "execute_result"
    }
   ],
   "source": [
    "\n",
    "\n",
    "df['Platform'].value_counts()\n",
    "\n",
    "\n"
   ]
  },
  {
   "cell_type": "markdown",
   "id": "db3e39fb-f8a6-41eb-a676-20f4fb4a4fe9",
   "metadata": {},
   "source": [
    "# Observation:\n",
    "# The dataset is well balanced across platforms.\n",
    "# Each platform contributes ~33% of total orders.\n",
    "# No strong bias towards a single platform, making it suitable for comparative analysis (e.g., delivery delays, refunds, feedback by platform).\n"
   ]
  },
  {
   "cell_type": "code",
   "execution_count": 68,
   "id": "91330242",
   "metadata": {},
   "outputs": [
    {
     "data": {
      "text/plain": [
       "Product Category\n",
       "Snacks                 1691\n",
       "Fruits & Vegetables    1678\n",
       "Personal Care          1676\n",
       "Dairy                  1673\n",
       "Beverages              1672\n",
       "Grocery                1668\n",
       "Name: count, dtype: int64"
      ]
     },
     "execution_count": 68,
     "metadata": {},
     "output_type": "execute_result"
    }
   ],
   "source": [
    "\n",
    "\n",
    "df['Product Category'].value_counts()\n",
    "\n"
   ]
  },
  {
   "cell_type": "code",
   "execution_count": 69,
   "id": "b139b87f",
   "metadata": {},
   "outputs": [
    {
     "data": {
      "text/plain": [
       "Customer Feedback\n",
       "Very late delivery, not happy.                822\n",
       "Delivery person was rude.                     819\n",
       "Packaging could be better.                    812\n",
       "Easy to order, loved it!                      812\n",
       "Very satisfied with the service.              779\n",
       "Not fresh, disappointed.                      778\n",
       "Excellent experience!                         776\n",
       "Items missing from order.                     769\n",
       "Good quality products.                        767\n",
       "Horrible experience, never ordering again.    748\n",
       "Quick and reliable!                           737\n",
       "Wrong item delivered.                         736\n",
       "Fast delivery, great service!                 733\n",
       "Name: count, dtype: int64"
      ]
     },
     "execution_count": 69,
     "metadata": {},
     "output_type": "execute_result"
    }
   ],
   "source": [
    "\n",
    "\n",
    "df['Customer Feedback'].value_counts()\n",
    "\n"
   ]
  },
  {
   "cell_type": "code",
   "execution_count": 70,
   "id": "3179e283",
   "metadata": {},
   "outputs": [
    {
     "data": {
      "text/plain": [
       "Service Rating\n",
       "5    3837\n",
       "2    3188\n",
       "1    1484\n",
       "3     812\n",
       "4     767\n",
       "Name: count, dtype: int64"
      ]
     },
     "execution_count": 70,
     "metadata": {},
     "output_type": "execute_result"
    }
   ],
   "source": [
    "\n",
    "\n",
    "df['Service Rating'].value_counts()\n",
    "\n"
   ]
  },
  {
   "cell_type": "code",
   "execution_count": 71,
   "id": "abf8e3f2",
   "metadata": {},
   "outputs": [
    {
     "data": {
      "text/plain": [
       "Delivery Delay\n",
       "No     8717\n",
       "Yes    1371\n",
       "Name: count, dtype: int64"
      ]
     },
     "execution_count": 71,
     "metadata": {},
     "output_type": "execute_result"
    }
   ],
   "source": [
    "\n",
    "\n",
    "df['Delivery Delay'].value_counts()\n",
    "\n"
   ]
  },
  {
   "cell_type": "code",
   "execution_count": 72,
   "id": "a030950e",
   "metadata": {},
   "outputs": [
    {
     "data": {
      "text/plain": [
       "Refund Requested\n",
       "No     5416\n",
       "Yes    4672\n",
       "Name: count, dtype: int64"
      ]
     },
     "execution_count": 72,
     "metadata": {},
     "output_type": "execute_result"
    }
   ],
   "source": [
    "\n",
    "\n",
    "df['Refund Requested'].value_counts()\n",
    "\n"
   ]
  },
  {
   "cell_type": "code",
   "execution_count": 73,
   "id": "9e6d7268",
   "metadata": {},
   "outputs": [
    {
     "data": {
      "text/plain": [
       "array(['Beverages', 'Grocery', 'Personal Care', 'Fruits & Vegetables',\n",
       "       'Snacks', 'Dairy', nan], dtype=object)"
      ]
     },
     "execution_count": 73,
     "metadata": {},
     "output_type": "execute_result"
    }
   ],
   "source": [
    "\n",
    "\n",
    "df['Product Category'].unique()\n",
    "\n"
   ]
  },
  {
   "cell_type": "markdown",
   "id": "9199e14d-1890-499e-b396-00b8ac067bda",
   "metadata": {},
   "source": [
    "\n",
    "#   Value counts for categorical columns\n",
    "# -Platform\n",
    "# -Swiggy Instamart → 33,449\n",
    "#  -Blinkit → 33,424\n",
    "#  -jioMart → 33,127\n",
    "# -Product Category\n",
    "# -(Will show counts of categories like \"Groceries\", \"Personal Care\", \"Beverages\", etc.)\n",
    "# -Customer Feedback\n",
    "#  -Positive / Neutral / Negative counts\n",
    "# -Service Rating\n",
    "# -Count of 1 ⭐, 2 ⭐, 3 ⭐, 4 ⭐, 5 ⭐\n",
    "# -Delivery Delay\n",
    "# -Yes / No counts\n",
    "# -Refund Requested\n",
    "# -Yes / No counts\n"
   ]
  },
  {
   "cell_type": "markdown",
   "id": "6af67390-1302-4663-a4db-7ea20f752a21",
   "metadata": {},
   "source": [
    "#  Shape of the dataset\n"
   ]
  },
  {
   "cell_type": "code",
   "execution_count": 74,
   "id": "17edc7ba",
   "metadata": {},
   "outputs": [
    {
     "data": {
      "text/plain": [
       "(10088, 11)"
      ]
     },
     "execution_count": 74,
     "metadata": {},
     "output_type": "execute_result"
    }
   ],
   "source": [
    "df.shape"
   ]
  },
  {
   "cell_type": "markdown",
   "id": "ef47bf03-540e-424c-ba8a-351d8ad2d4f2",
   "metadata": {},
   "source": [
    "# Shape of the dataset \n",
    "- The dataset has 100,000 rows and 11 column"
   ]
  },
  {
   "cell_type": "markdown",
   "id": "bb66e541-0cd4-4fbd-b333-40c2f15036f1",
   "metadata": {},
   "source": [
    "# Check missing value"
   ]
  },
  {
   "cell_type": "code",
   "execution_count": 75,
   "id": "7e48dcc0",
   "metadata": {},
   "outputs": [
    {
     "data": {
      "text/plain": [
       "Order ID                    0\n",
       "Customer ID                 0\n",
       "Platform                   80\n",
       "Order Date & Time           0\n",
       "Delivery Time (Minutes)     0\n",
       "Product Category           30\n",
       "Order Value (INR)          70\n",
       "Customer Feedback           0\n",
       "Service Rating              0\n",
       "Delivery Delay              0\n",
       "Refund Requested            0\n",
       "dtype: int64"
      ]
     },
     "execution_count": 75,
     "metadata": {},
     "output_type": "execute_result"
    }
   ],
   "source": [
    "df.isnull().sum()"
   ]
  },
  {
   "cell_type": "markdown",
   "id": "e13f21f0-a44c-4078-be3f-e777b77c0d77",
   "metadata": {},
   "source": [
    "# Percentage of Missing Values"
   ]
  },
  {
   "cell_type": "code",
   "execution_count": 76,
   "id": "8f3a87f9",
   "metadata": {},
   "outputs": [
    {
     "data": {
      "text/plain": [
       "Order ID                   0.00\n",
       "Customer ID                0.00\n",
       "Platform                   0.79\n",
       "Order Date & Time          0.00\n",
       "Delivery Time (Minutes)    0.00\n",
       "Product Category           0.30\n",
       "Order Value (INR)          0.69\n",
       "Customer Feedback          0.00\n",
       "Service Rating             0.00\n",
       "Delivery Delay             0.00\n",
       "Refund Requested           0.00\n",
       "dtype: float64"
      ]
     },
     "execution_count": 76,
     "metadata": {},
     "output_type": "execute_result"
    }
   ],
   "source": [
    "round(df.isnull().sum()/len(df)*100,2)"
   ]
  },
  {
   "cell_type": "markdown",
   "id": "886a94c7-a918-4abe-bf9f-3130087a20c4",
   "metadata": {},
   "source": [
    "# Columns with missing values\n",
    "# Observations\n",
    "- No Missing Values (0.00%)\n",
    "-Order ID, Customer ID, Order Date & Time, Delivery Time (Minutes), Customer Feedback, Service Rating, Delivery Delay, Refund Requested\n",
    "- ✅ These columns are complete and don’t require imputation.\n",
    "- Columns with Small Amount of Missing Data\n",
    "-Platform → 0.79% missing\n",
    "- Product Category → 0.30% missing\n",
    "- Order Value (INR) → 0.69% missing\n",
    "- These values are relatively low (<1%), so you can either drop the rows with missing values or apply simple imputation (e.g., fill with mode for categorical, mean/median for numerical).\n",
    "-Overall Quality\n",
    "-The dataset is quite clean — missing values are minimal (<1%).\n",
    "-Imputation or row removal won’t significantly impact the dataset size or analysis."
   ]
  },
  {
   "cell_type": "markdown",
   "id": "5e2a2244-48c9-431c-aa06-fdc675f56ff1",
   "metadata": {},
   "source": [
    "# Data types"
   ]
  },
  {
   "cell_type": "code",
   "execution_count": 77,
   "id": "4c22dea2",
   "metadata": {},
   "outputs": [
    {
     "data": {
      "text/plain": [
       "Order ID                    object\n",
       "Customer ID                 object\n",
       "Platform                    object\n",
       "Order Date & Time           object\n",
       "Delivery Time (Minutes)      int64\n",
       "Product Category            object\n",
       "Order Value (INR)          float64\n",
       "Customer Feedback           object\n",
       "Service Rating               int64\n",
       "Delivery Delay              object\n",
       "Refund Requested            object\n",
       "dtype: object"
      ]
     },
     "execution_count": 77,
     "metadata": {},
     "output_type": "execute_result"
    }
   ],
   "source": [
    "df.dtypes"
   ]
  },
  {
   "cell_type": "markdown",
   "id": "d17800ff-f552-4456-a902-caf0840b396a",
   "metadata": {},
   "source": [
    "\n",
    "# Data types of each column\n",
    " - Order ID → object (unique identifier)\n",
    " - Customer ID → object (identifier)\n",
    "- Platform → object (categorical)\n",
    "- nOrder Date & Time → object (timestamp as string, can be converted to datetime)\n",
    "- Delivery Time (Minutes) → int64 (numeric)\n",
    " - Product Category → object (categorical)\n",
    "- Order Value (INR) → int64 (numeric)\n",
    "- Customer Feedback → object (categorical)\n",
    "- Service Rating → int64 (numeric ordinal)\n",
    "- Delivery Delay → object (Yes/No categorical)\n",
    "- Refund Requested → object (Yes/No categorical)"
   ]
  },
  {
   "cell_type": "markdown",
   "id": "a5dd352c-0918-48fc-b658-b0fb851478ba",
   "metadata": {},
   "source": [
    "#  Checking for Duplicates"
   ]
  },
  {
   "cell_type": "code",
   "execution_count": 78,
   "id": "a6303d07",
   "metadata": {},
   "outputs": [
    {
     "data": {
      "text/plain": [
       "88"
      ]
     },
     "execution_count": 78,
     "metadata": {},
     "output_type": "execute_result"
    }
   ],
   "source": [
    "df.duplicated().sum()"
   ]
  },
  {
   "cell_type": "markdown",
   "id": "358c6b4e-7c45-4028-aaa9-1c255d60d32a",
   "metadata": {},
   "source": [
    "# # Observations:\n",
    "- Duplicates Exist → There are 88 rows that are exact copies of others in the dataset.\n",
    "- Impact on Analysis\n",
    "-If kept, duplicates may bias results (e.g., inflating order counts, revenues, customer frequency).\n",
    "- Removing them improves data accuracy and reliability.\n",
    "- Action\n",
    "- Safest approach: remove duplicates with"
   ]
  },
  {
   "cell_type": "markdown",
   "id": "48536db2-9cb4-45e0-861e-53e8bedbba74",
   "metadata": {},
   "source": [
    "# outliers"
   ]
  },
  {
   "cell_type": "code",
   "execution_count": 79,
   "id": "7b0d155f",
   "metadata": {},
   "outputs": [
    {
     "name": "stdout",
     "output_type": "stream",
     "text": [
      "✅ Outliers removed. New dataset shape: (9492, 11)\n"
     ]
    }
   ],
   "source": [
    "\n",
    "\n",
    "import pandas as pd\n",
    "\n",
    "# Function to remove outliers using IQR method\n",
    "def remove_outliers_iqr(data, column):\n",
    "    Q1 = data[column].quantile(0.25)\n",
    "    Q3 = data[column].quantile(0.75)\n",
    "    IQR = Q3 - Q1\n",
    "    lower_bound = Q1 - 1.5 * IQR\n",
    "    upper_bound = Q3 + 1.5 * IQR\n",
    "\n",
    "    # Filter rows within bounds\n",
    "    return data[(data[column] >= lower_bound) & (data[column] <= upper_bound)]\n",
    "\n",
    "# ✅ Apply to your dataset columns\n",
    "for col in [\"Delivery Time (Minutes)\", \"Order Value (INR)\", \"Service Rating\"]:\n",
    "    if col in df.columns:   # check column exists in your dataset\n",
    "        df = remove_outliers_iqr(df, col)\n",
    "\n",
    "print(\"✅ Outliers removed. New dataset shape:\", df.shape)\n",
    "\n"
   ]
  },
  {
   "cell_type": "markdown",
   "id": "1d7ab405-c4b7-40e9-8724-8babd3d25502",
   "metadata": {},
   "source": [
    "\n",
    "\n",
    "\n",
    "\n",
    "\n",
    "# phase 2 - Data cleaning\n",
    "\n",
    "# Dealing with null values\n"
   ]
  },
  {
   "cell_type": "code",
   "execution_count": 80,
   "id": "0ef3e20b",
   "metadata": {},
   "outputs": [
    {
     "data": {
      "text/plain": [
       "Order ID                    0\n",
       "Customer ID                 0\n",
       "Platform                   78\n",
       "Order Date & Time           0\n",
       "Delivery Time (Minutes)     0\n",
       "Product Category           30\n",
       "Order Value (INR)           0\n",
       "Customer Feedback           0\n",
       "Service Rating              0\n",
       "Delivery Delay              0\n",
       "Refund Requested            0\n",
       "dtype: int64"
      ]
     },
     "execution_count": 80,
     "metadata": {},
     "output_type": "execute_result"
    }
   ],
   "source": [
    "df.isnull().sum()"
   ]
  },
  {
   "cell_type": "code",
   "execution_count": 81,
   "id": "3ed3a78a",
   "metadata": {},
   "outputs": [],
   "source": [
    "df['Platform'].fillna(df['Platform'].mode()[0],inplace = True)"
   ]
  },
  {
   "cell_type": "code",
   "execution_count": 82,
   "id": "143157b6",
   "metadata": {},
   "outputs": [
    {
     "data": {
      "text/plain": [
       "0"
      ]
     },
     "execution_count": 82,
     "metadata": {},
     "output_type": "execute_result"
    }
   ],
   "source": [
    "df['Platform'].isna().sum()"
   ]
  },
  {
   "cell_type": "code",
   "execution_count": 83,
   "id": "fc3e247e",
   "metadata": {},
   "outputs": [],
   "source": [
    "df['Product Category'].fillna('Unspecified',inplace = True)"
   ]
  },
  {
   "cell_type": "code",
   "execution_count": 84,
   "id": "4a7e6c3f",
   "metadata": {},
   "outputs": [
    {
     "data": {
      "text/plain": [
       "0"
      ]
     },
     "execution_count": 84,
     "metadata": {},
     "output_type": "execute_result"
    }
   ],
   "source": [
    "df['Product Category'].isna().sum()"
   ]
  },
  {
   "cell_type": "code",
   "execution_count": 85,
   "id": "6a703c07",
   "metadata": {},
   "outputs": [],
   "source": [
    "df['Order Value (INR)'].fillna(df['Order Value (INR)'].median(),inplace = True)"
   ]
  },
  {
   "cell_type": "code",
   "execution_count": 86,
   "id": "9b7bc434",
   "metadata": {},
   "outputs": [
    {
     "data": {
      "text/plain": [
       "0"
      ]
     },
     "execution_count": 86,
     "metadata": {},
     "output_type": "execute_result"
    }
   ],
   "source": [
    "df['Order Value (INR)'].isna().sum()"
   ]
  },
  {
   "cell_type": "code",
   "execution_count": 87,
   "id": "b49f56fa",
   "metadata": {},
   "outputs": [
    {
     "data": {
      "text/plain": [
       "Order ID                   0\n",
       "Customer ID                0\n",
       "Platform                   0\n",
       "Order Date & Time          0\n",
       "Delivery Time (Minutes)    0\n",
       "Product Category           0\n",
       "Order Value (INR)          0\n",
       "Customer Feedback          0\n",
       "Service Rating             0\n",
       "Delivery Delay             0\n",
       "Refund Requested           0\n",
       "dtype: int64"
      ]
     },
     "execution_count": 87,
     "metadata": {},
     "output_type": "execute_result"
    }
   ],
   "source": [
    "df.isnull().sum()"
   ]
  },
  {
   "cell_type": "markdown",
   "id": "9910632b-97d0-40ee-bc0a-2998f74b4f2c",
   "metadata": {},
   "source": [
    "# ## dealing with duplicates"
   ]
  },
  {
   "cell_type": "code",
   "execution_count": 88,
   "id": "91035bce",
   "metadata": {},
   "outputs": [
    {
     "data": {
      "text/plain": [
       "82"
      ]
     },
     "execution_count": 88,
     "metadata": {},
     "output_type": "execute_result"
    }
   ],
   "source": [
    "df.duplicated().sum()"
   ]
  },
  {
   "cell_type": "code",
   "execution_count": 89,
   "id": "c13b5671",
   "metadata": {},
   "outputs": [],
   "source": [
    "df.drop_duplicates(inplace=True)"
   ]
  },
  {
   "cell_type": "code",
   "execution_count": 90,
   "id": "0f254905",
   "metadata": {},
   "outputs": [
    {
     "data": {
      "text/plain": [
       "0"
      ]
     },
     "execution_count": 90,
     "metadata": {},
     "output_type": "execute_result"
    }
   ],
   "source": [
    "df.duplicated().sum()"
   ]
  },
  {
   "cell_type": "code",
   "execution_count": 91,
   "id": "f1c14b34",
   "metadata": {},
   "outputs": [
    {
     "data": {
      "text/html": [
       "<div>\n",
       "<style scoped>\n",
       "    .dataframe tbody tr th:only-of-type {\n",
       "        vertical-align: middle;\n",
       "    }\n",
       "\n",
       "    .dataframe tbody tr th {\n",
       "        vertical-align: top;\n",
       "    }\n",
       "\n",
       "    .dataframe thead th {\n",
       "        text-align: right;\n",
       "    }\n",
       "</style>\n",
       "<table border=\"1\" class=\"dataframe\">\n",
       "  <thead>\n",
       "    <tr style=\"text-align: right;\">\n",
       "      <th></th>\n",
       "      <th>Order ID</th>\n",
       "      <th>Customer ID</th>\n",
       "      <th>Platform</th>\n",
       "      <th>Order Date &amp; Time</th>\n",
       "      <th>Delivery Time (Minutes)</th>\n",
       "      <th>Product Category</th>\n",
       "      <th>Order Value (INR)</th>\n",
       "      <th>Customer Feedback</th>\n",
       "      <th>Service Rating</th>\n",
       "      <th>Delivery Delay</th>\n",
       "      <th>Refund Requested</th>\n",
       "    </tr>\n",
       "  </thead>\n",
       "  <tbody>\n",
       "    <tr>\n",
       "      <th>0</th>\n",
       "      <td>ORD090001</td>\n",
       "      <td>CUST9695</td>\n",
       "      <td>Blinkit</td>\n",
       "      <td>15:29.5</td>\n",
       "      <td>25</td>\n",
       "      <td>Beverages</td>\n",
       "      <td>465.0</td>\n",
       "      <td>Fast delivery, great service!</td>\n",
       "      <td>5</td>\n",
       "      <td>No</td>\n",
       "      <td>No</td>\n",
       "    </tr>\n",
       "    <tr>\n",
       "      <th>1</th>\n",
       "      <td>ORD090002</td>\n",
       "      <td>CUST1912</td>\n",
       "      <td>Blinkit</td>\n",
       "      <td>30:29.5</td>\n",
       "      <td>55</td>\n",
       "      <td>Grocery</td>\n",
       "      <td>1265.0</td>\n",
       "      <td>Horrible experience, never ordering again.</td>\n",
       "      <td>1</td>\n",
       "      <td>Yes</td>\n",
       "      <td>Yes</td>\n",
       "    </tr>\n",
       "    <tr>\n",
       "      <th>3</th>\n",
       "      <td>ORD090004</td>\n",
       "      <td>CUST7815</td>\n",
       "      <td>Blinkit</td>\n",
       "      <td>49:29.5</td>\n",
       "      <td>31</td>\n",
       "      <td>Grocery</td>\n",
       "      <td>1255.0</td>\n",
       "      <td>Quick and reliable!</td>\n",
       "      <td>5</td>\n",
       "      <td>No</td>\n",
       "      <td>No</td>\n",
       "    </tr>\n",
       "    <tr>\n",
       "      <th>4</th>\n",
       "      <td>ORD090005</td>\n",
       "      <td>CUST4418</td>\n",
       "      <td>Blinkit</td>\n",
       "      <td>26:29.5</td>\n",
       "      <td>27</td>\n",
       "      <td>Fruits &amp; Vegetables</td>\n",
       "      <td>301.0</td>\n",
       "      <td>Items missing from order.</td>\n",
       "      <td>2</td>\n",
       "      <td>No</td>\n",
       "      <td>Yes</td>\n",
       "    </tr>\n",
       "    <tr>\n",
       "      <th>5</th>\n",
       "      <td>ORD090006</td>\n",
       "      <td>CUST2217</td>\n",
       "      <td>JioMart</td>\n",
       "      <td>20:29.5</td>\n",
       "      <td>5</td>\n",
       "      <td>Grocery</td>\n",
       "      <td>1272.0</td>\n",
       "      <td>Packaging could be better.</td>\n",
       "      <td>3</td>\n",
       "      <td>No</td>\n",
       "      <td>No</td>\n",
       "    </tr>\n",
       "  </tbody>\n",
       "</table>\n",
       "</div>"
      ],
      "text/plain": [
       "    Order ID Customer ID Platform Order Date & Time  Delivery Time (Minutes)  \\\n",
       "0  ORD090001    CUST9695  Blinkit           15:29.5                       25   \n",
       "1  ORD090002    CUST1912  Blinkit           30:29.5                       55   \n",
       "3  ORD090004    CUST7815  Blinkit           49:29.5                       31   \n",
       "4  ORD090005    CUST4418  Blinkit           26:29.5                       27   \n",
       "5  ORD090006    CUST2217  JioMart           20:29.5                        5   \n",
       "\n",
       "      Product Category  Order Value (INR)  \\\n",
       "0            Beverages              465.0   \n",
       "1              Grocery             1265.0   \n",
       "3              Grocery             1255.0   \n",
       "4  Fruits & Vegetables              301.0   \n",
       "5              Grocery             1272.0   \n",
       "\n",
       "                            Customer Feedback  Service Rating Delivery Delay  \\\n",
       "0               Fast delivery, great service!               5             No   \n",
       "1  Horrible experience, never ordering again.               1            Yes   \n",
       "3                         Quick and reliable!               5             No   \n",
       "4                   Items missing from order.               2             No   \n",
       "5                  Packaging could be better.               3             No   \n",
       "\n",
       "  Refund Requested  \n",
       "0               No  \n",
       "1              Yes  \n",
       "3               No  \n",
       "4              Yes  \n",
       "5               No  "
      ]
     },
     "execution_count": 91,
     "metadata": {},
     "output_type": "execute_result"
    }
   ],
   "source": [
    "df.head()"
   ]
  },
  {
   "cell_type": "markdown",
   "id": "34dc9a12-792d-4d77-9864-f450848fe2b8",
   "metadata": {},
   "source": [
    "# # Categorical vs Categorica"
   ]
  },
  {
   "cell_type": "code",
   "execution_count": 92,
   "id": "d4ec414f",
   "metadata": {},
   "outputs": [
    {
     "data": {
      "text/plain": [
       "Product Category\n",
       "Beverages              1636\n",
       "Dairy                  1637\n",
       "Fruits & Vegetables    1647\n",
       "Grocery                1609\n",
       "Personal Care          1194\n",
       "Snacks                 1657\n",
       "Unspecified              30\n",
       "Name: Customer Feedback, dtype: int64"
      ]
     },
     "execution_count": 92,
     "metadata": {},
     "output_type": "execute_result"
    }
   ],
   "source": [
    "df.groupby(\"Product Category\")[\"Customer Feedback\"].count()"
   ]
  },
  {
   "cell_type": "markdown",
   "id": "cd0dfb6c-3b06-447b-8f5a-1053f53f7448",
   "metadata": {},
   "source": [
    "# Categorical vs Numerical"
   ]
  },
  {
   "cell_type": "code",
   "execution_count": 93,
   "id": "8b8fe343",
   "metadata": {},
   "outputs": [
    {
     "data": {
      "text/plain": [
       "Platform\n",
       "Blinkit             1703664.0\n",
       "JioMart             1638661.0\n",
       "Swiggy Instamart    1674251.0\n",
       "Name: Order Value (INR), dtype: float64"
      ]
     },
     "execution_count": 93,
     "metadata": {},
     "output_type": "execute_result"
    }
   ],
   "source": [
    "df.groupby(\"Platform\")[\"Order Value (INR)\"].sum()"
   ]
  },
  {
   "cell_type": "markdown",
   "id": "e1607e72-5614-4d0b-8c52-701d75800016",
   "metadata": {},
   "source": [
    "#  Numerical vs Numerical:"
   ]
  },
  {
   "cell_type": "code",
   "execution_count": 94,
   "id": "73df851f",
   "metadata": {},
   "outputs": [
    {
     "data": {
      "text/html": [
       "<div>\n",
       "<style scoped>\n",
       "    .dataframe tbody tr th:only-of-type {\n",
       "        vertical-align: middle;\n",
       "    }\n",
       "\n",
       "    .dataframe tbody tr th {\n",
       "        vertical-align: top;\n",
       "    }\n",
       "\n",
       "    .dataframe thead th {\n",
       "        text-align: right;\n",
       "    }\n",
       "</style>\n",
       "<table border=\"1\" class=\"dataframe\">\n",
       "  <thead>\n",
       "    <tr style=\"text-align: right;\">\n",
       "      <th></th>\n",
       "      <th>Delivery Time (Minutes)</th>\n",
       "      <th>Service Rating</th>\n",
       "    </tr>\n",
       "  </thead>\n",
       "  <tbody>\n",
       "    <tr>\n",
       "      <th>Delivery Time (Minutes)</th>\n",
       "      <td>1.000000</td>\n",
       "      <td>0.009834</td>\n",
       "    </tr>\n",
       "    <tr>\n",
       "      <th>Service Rating</th>\n",
       "      <td>0.009834</td>\n",
       "      <td>1.000000</td>\n",
       "    </tr>\n",
       "  </tbody>\n",
       "</table>\n",
       "</div>"
      ],
      "text/plain": [
       "                         Delivery Time (Minutes)  Service Rating\n",
       "Delivery Time (Minutes)                 1.000000        0.009834\n",
       "Service Rating                          0.009834        1.000000"
      ]
     },
     "execution_count": 94,
     "metadata": {},
     "output_type": "execute_result"
    }
   ],
   "source": [
    "df[[\"Delivery Time (Minutes)\",\"Service Rating\"]].corr()"
   ]
  },
  {
   "cell_type": "markdown",
   "id": "25db68e8-8bb4-4568-85c0-82df51249814",
   "metadata": {},
   "source": [
    "# visualizations\n",
    "# 1. How do delivery times vary across different platforms?"
   ]
  },
  {
   "cell_type": "code",
   "execution_count": 95,
   "id": "407f0bfe",
   "metadata": {},
   "outputs": [
    {
     "data": {
      "image/png": "[encoded data removed]",
      "text/plain": [
       "<Figure size 800x500 with 1 Axes>"
      ]
     },
     "metadata": {},
     "output_type": "display_data"
    }
   ],
   "source": [
    "\n",
    "\n",
    "plt.figure(figsize=(8,5))\n",
    "sns.boxplot(x=\"Platform\", y=\"Delivery Time (Minutes)\", data=df)\n",
    "plt.title(\"Delivery Time Distribution by Platform\")\n",
    "plt.ylabel(\"Delivery Time (Minutes)\")\n",
    "plt.xlabel(\"Platform\")\n",
    "plt.tight_layout()\n",
    "plt.show()"
   ]
  },
  {
   "cell_type": "markdown",
   "id": "66231c46-86ca-4d00-a47e-7db8e9635a04",
   "metadata": {},
   "source": [
    "# 2.Does product category influence delivery delays and refunds"
   ]
  },
  {
   "cell_type": "code",
   "execution_count": 96,
   "id": "fc76a577",
   "metadata": {},
   "outputs": [
    {
     "data": {
      "image/png": "[encoded data removed]",
      "text/plain": [
       "<Figure size 1000x600 with 1 Axes>"
      ]
     },
     "metadata": {},
     "output_type": "display_data"
    }
   ],
   "source": [
    "\n",
    "\n",
    "cat_summary = df.groupby(\"Product Category\").agg(\n",
    "    avg_delay=(\"Delivery Delay\", lambda s: (s==\"Yes\").mean()*100),\n",
    "    refund_rate=(\"Refund Requested\", lambda s: (s==\"Yes\").mean()*100),\n",
    "    orders=(\"Order ID\", \"count\")\n",
    ").sort_values(\"orders\", ascending=False).head(12)\n",
    "\n",
    "cat_summary[['avg_delay','refund_rate']].plot(kind='bar', figsize=(10,6))\n",
    "plt.title(\"Delay % and Refund % by Product Category (Top 12)\")\n",
    "plt.ylabel(\"Percentage (%)\")\n",
    "plt.xticks(rotation=60, ha=\"right\")\n",
    "plt.tight_layout()\n",
    "plt.show()"
   ]
  },
  {
   "cell_type": "markdown",
   "id": "39b2bfe3-6fd0-4ebc-a522-15fb3ab5eb82",
   "metadata": {},
   "source": [
    "# 3.What is the relationship between order value and customer satisfaction"
   ]
  },
  {
   "cell_type": "code",
   "execution_count": 97,
   "id": "3430a133",
   "metadata": {},
   "outputs": [
    {
     "data": {
      "image/png": "[encoded data removed]",
      "text/plain": [
       "<Figure size 800x600 with 1 Axes>"
      ]
     },
     "metadata": {},
     "output_type": "display_data"
    }
   ],
   "source": [
    "\n",
    "\n",
    "plt.figure(figsize=(8,6))\n",
    "sns.scatterplot(x=\"Order Value (INR)\", y=\"Service Rating\", data=df, alpha=0.6)\n",
    "sns.regplot(x=\"Order Value (INR)\", y=\"Service Rating\", data=df, scatter=False, color=\"red\")\n",
    "plt.title(\"Order Value (INR) vs Service Rating\")\n",
    "plt.xlabel(\"Order Value (INR)\")\n",
    "plt.ylabel(\"Service Rating\")\n",
    "plt.show()"
   ]
  },
  {
   "cell_type": "markdown",
   "id": "a21dd72d-927d-4c3e-99ca-d7ef370fa4c6",
   "metadata": {},
   "source": [
    "# 4. Customer feedback vs service rating"
   ]
  },
  {
   "cell_type": "code",
   "execution_count": 98,
   "id": "d6cb51fd",
   "metadata": {},
   "outputs": [],
   "source": [
    "a=df[\"Customer Feedback\"].value_counts()\n",
    "b=df[\"Service Rating\"].value_counts()"
   ]
  },
  {
   "cell_type": "code",
   "execution_count": 99,
   "id": "3bc69966",
   "metadata": {},
   "outputs": [
    {
     "data": {
      "image/png": "[encoded data removed]",
      "text/plain": [
       "<Figure size 1400x600 with 2 Axes>"
      ]
     },
     "metadata": {},
     "output_type": "display_data"
    }
   ],
   "source": [
    "\n",
    "\n",
    "import matplotlib.pyplot as plt\n",
    "\n",
    "fig, axes = plt.subplots(1, 2, figsize=(14,6))\n",
    "\n",
    "# Plot Customer Feedback counts\n",
    "a.plot(kind=\"bar\", ax=axes[0], color=\"skyblue\")\n",
    "axes[0].set_title(\"Customer Feedback Counts\")\n",
    "axes[0].set_xlabel(\"Customer Feedback\")\n",
    "axes[0].set_ylabel(\"Count\")\n",
    "axes[0].tick_params(axis=\"x\", rotation=90)\n",
    "\n",
    "# Plot Service Rating counts\n",
    "b.plot(kind=\"bar\", ax=axes[1], color=\"salmon\")\n",
    "axes[1].set_title(\"Service Rating Counts\")\n",
    "axes[1].set_xlabel(\"Service Rating\")\n",
    "axes[1].set_ylabel(\"Count\")\n",
    "axes[1].tick_params(axis=\"x\", rotation=0)\n",
    "\n",
    "plt.tight_layout()\n",
    "plt.show()\n",
    "\n"
   ]
  },
  {
   "cell_type": "markdown",
   "id": "02328ead-151f-4db7-9b62-7c571d46b698",
   "metadata": {},
   "source": [
    "#  5. Factors contributing to refund requests"
   ]
  },
  {
   "cell_type": "code",
   "execution_count": 100,
   "id": "901f8047",
   "metadata": {},
   "outputs": [
    {
     "data": {
      "image/png": "[encoded data removed]",
      "text/plain": [
       "<Figure size 800x600 with 1 Axes>"
      ]
     },
     "metadata": {},
     "output_type": "display_data"
    }
   ],
   "source": [
    "\n",
    "\n",
    "plt.figure(figsize=(8,6))\n",
    "sns.boxplot(x=\"Refund Requested\", y=\"Order Value (INR)\", data=df)\n",
    "plt.title(\"Refund Requests vs Order Value (INR)\")\n",
    "plt.ylabel(\"Order Value (INR)\")\n",
    "plt.xlabel(\"Refund Requested\")\n",
    "plt.show()\n",
    "\n"
   ]
  },
  {
   "cell_type": "code",
   "execution_count": null,
   "id": "6b18e626",
   "metadata": {},
   "outputs": [],
   "source": [
    "\n",
    "\n",
    "\n",
    "\n"
   ]
  },
  {
   "cell_type": "code",
   "execution_count": null,
   "id": "b66c265a",
   "metadata": {},
   "outputs": [],
   "source": [
    "\n",
    "\n",
    "\n",
    "\n"
   ]
  },
  {
   "cell_type": "code",
   "execution_count": null,
   "id": "30d303ff",
   "metadata": {},
   "outputs": [],
   "source": [
    "\n",
    "\n",
    "\n",
    "\n"
   ]
  },
  {
   "cell_type": "code",
   "execution_count": null,
   "id": "1c3cc586",
   "metadata": {},
   "outputs": [],
   "source": [
    "\n",
    "\n",
    "\n",
    "\n"
   ]
  },
  {
   "cell_type": "code",
   "execution_count": null,
   "id": "88ec5d05",
   "metadata": {},
   "outputs": [],
   "source": [
    "\n",
    "\n",
    "\n",
    "\n"
   ]
  },
  {
   "cell_type": "code",
   "execution_count": null,
   "id": "138fb7e3",
   "metadata": {},
   "outputs": [],
   "source": [
    "\n",
    "\n",
    "\n",
    "\n"
   ]
  },
  {
   "cell_type": "code",
   "execution_count": null,
   "id": "1a0c7775",
   "metadata": {},
   "outputs": [],
   "source": [
    "\n",
    "\n",
    "\n",
    "\n"
   ]
  },
  {
   "cell_type": "code",
   "execution_count": null,
   "id": "19ad2bdf",
   "metadata": {},
   "outputs": [],
   "source": [
    "\n",
    "\n",
    "\n",
    "\n"
   ]
  },
  {
   "cell_type": "code",
   "execution_count": null,
   "id": "a22a92e7",
   "metadata": {},
   "outputs": [],
   "source": [
    "\n",
    "\n",
    "\n",
    "\n"
   ]
  },
  {
   "cell_type": "code",
   "execution_count": null,
   "id": "1ec66d4f",
   "metadata": {},
   "outputs": [],
   "source": [
    "\n",
    "\n",
    "\n",
    "\n"
   ]
  },
  {
   "cell_type": "code",
   "execution_count": null,
   "id": "4e7ce0f9",
   "metadata": {},
   "outputs": [],
   "source": [
    "\n",
    "\n",
    "\n",
    "\n"
   ]
  },
  {
   "cell_type": "code",
   "execution_count": null,
   "id": "cc7a7a4d",
   "metadata": {},
   "outputs": [],
   "source": [
    "\n",
    "\n",
    "\n",
    "\n"
   ]
  },
  {
   "cell_type": "code",
   "execution_count": null,
   "id": "25b8fee8",
   "metadata": {},
   "outputs": [],
   "source": [
    "\n",
    "\n",
    "\n",
    "\n"
   ]
  },
  {
   "cell_type": "code",
   "execution_count": null,
   "id": "a020747c",
   "metadata": {},
   "outputs": [],
   "source": [
    "\n",
    "\n",
    "\n",
    "\n"
   ]
  },
  {
   "cell_type": "code",
   "execution_count": null,
   "id": "0b05976a",
   "metadata": {},
   "outputs": [],
   "source": [
    "\n",
    "\n",
    "\n",
    "\n"
   ]
  },
  {
   "cell_type": "code",
   "execution_count": null,
   "id": "1df024e2",
   "metadata": {},
   "outputs": [],
   "source": [
    "\n",
    "\n",
    "\n"
   ]
  }
 ],
 "metadata": {
  "kernelspec": {
   "display_name": "Python [conda env:base] *",
   "language": "python",
   "name": "conda-base-py"
  },
  "language_info": {
   "codemirror_mode": {
    "name": "ipython",
    "version": 3
   },
   "file_extension": ".py",
   "mimetype": "text/x-python",
   "name": "python",
   "nbconvert_exporter": "python",
   "pygments_lexer": "ipython3",
   "version": "3.12.7"
  }
 },
 "nbformat": 4,
 "nbformat_minor": 5
}
